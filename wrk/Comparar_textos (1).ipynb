{
  "cells": [
    {
      "cell_type": "markdown",
      "id": "bbd73726",
      "metadata": {
        "id": "bbd73726"
      },
      "source": [
        "## Comparar textos"
      ]
    },
    {
      "cell_type": "code",
      "execution_count": null,
      "id": "092dde25",
      "metadata": {
        "id": "092dde25"
      },
      "outputs": [],
      "source": [
        "import difflib"
      ]
    },
    {
      "cell_type": "code",
      "execution_count": null,
      "id": "4ff1e0f1",
      "metadata": {
        "id": "4ff1e0f1"
      },
      "outputs": [],
      "source": [
        "input_text = \"ChatGPT is a large language model designe to generate human-like responsez.\"\n",
        "output_text = \"ChatGPT is a large language model designed to generate human-like responses.\""
      ]
    },
    {
      "cell_type": "markdown",
      "id": "7507ac9a",
      "metadata": {
        "id": "7507ac9a"
      },
      "source": [
        "### Comparar palabras"
      ]
    },
    {
      "cell_type": "code",
      "execution_count": null,
      "id": "92c4c73f",
      "metadata": {
        "id": "92c4c73f",
        "colab": {
          "base_uri": "https://localhost:8080/"
        },
        "outputId": "a90967f6-d318-42a2-c9bd-2ab5a4eb3b94"
      },
      "outputs": [
        {
          "output_type": "stream",
          "name": "stdout",
          "text": [
            "  ChatGPT\n",
            "  is\n",
            "  a\n",
            "  large\n",
            "  language\n",
            "  model\n",
            "- designe\n",
            "+ designed\n",
            "?        +\n",
            "\n",
            "  to\n",
            "  generate\n",
            "  human-like\n",
            "- responsez.\n",
            "?         ^\n",
            "\n",
            "+ responses.\n",
            "?         ^\n",
            "\n"
          ]
        }
      ],
      "source": [
        "d = difflib.Differ()\n",
        "\n",
        "diff = d.compare(input_text.split(), output_text.split())\n",
        "\n",
        "for word in diff:\n",
        "    print(word)"
      ]
    },
    {
      "cell_type": "markdown",
      "id": "d2957f6d",
      "metadata": {
        "id": "d2957f6d"
      },
      "source": [
        "#### Limpiar resultado"
      ]
    },
    {
      "cell_type": "code",
      "execution_count": null,
      "id": "fb39069a",
      "metadata": {
        "id": "fb39069a",
        "colab": {
          "base_uri": "https://localhost:8080/"
        },
        "outputId": "376721bc-d64a-4a30-bac6-5d7d45c2a59e"
      },
      "outputs": [
        {
          "output_type": "execute_result",
          "data": {
            "text/plain": [
              "['  ChatGPT',\n",
              " '  is',\n",
              " '  a',\n",
              " '  large',\n",
              " '  language',\n",
              " '  model',\n",
              " '- designe',\n",
              " '+ designed',\n",
              " '  to',\n",
              " '  generate',\n",
              " '  human-like',\n",
              " '- responsez.',\n",
              " '+ responses.']"
            ]
          },
          "metadata": {},
          "execution_count": 5
        }
      ],
      "source": [
        "diff = d.compare(input_text.split(), output_text.split())\n",
        "\n",
        "list_words = []\n",
        "for word in diff:\n",
        "    if '?' not in word:\n",
        "        list_words.append(word)\n",
        "list_words"
      ]
    },
    {
      "cell_type": "code",
      "execution_count": null,
      "id": "99a5e9e9",
      "metadata": {
        "id": "99a5e9e9",
        "colab": {
          "base_uri": "https://localhost:8080/"
        },
        "outputId": "bb9e8c01-254e-421e-d18e-83f2ed1fa11a"
      },
      "outputs": [
        {
          "output_type": "execute_result",
          "data": {
            "text/plain": [
              "['  ChatGPT',\n",
              " '  is',\n",
              " '  a',\n",
              " '  large',\n",
              " '  language',\n",
              " '  model',\n",
              " '+ designed',\n",
              " '+ designed',\n",
              " '  to',\n",
              " '  generate',\n",
              " '  human-like',\n",
              " '+ responses.',\n",
              " '+ responses.']"
            ]
          },
          "metadata": {},
          "execution_count": 6
        }
      ],
      "source": [
        "reviewed_sentence = []\n",
        "for idx, word in enumerate(list_words):\n",
        "    if '-' in word and '+' in list_words[idx+1]:\n",
        "        reviewed_sentence.append(list_words[idx+1])\n",
        "    else:\n",
        "        reviewed_sentence.append(word)\n",
        "\n",
        "reviewed_sentence"
      ]
    },
    {
      "cell_type": "code",
      "execution_count": null,
      "id": "e745a8d6",
      "metadata": {
        "id": "e745a8d6",
        "colab": {
          "base_uri": "https://localhost:8080/"
        },
        "outputId": "570dac2c-bfb1-49d6-d3c7-4d4995751fb2"
      },
      "outputs": [
        {
          "output_type": "execute_result",
          "data": {
            "text/plain": [
              "['  ChatGPT',\n",
              " '  is',\n",
              " '  a',\n",
              " '  large',\n",
              " '  language',\n",
              " '  model',\n",
              " '+ designed',\n",
              " '  to',\n",
              " '  generate',\n",
              " '  human-like',\n",
              " '+ responses.']"
            ]
          },
          "metadata": {},
          "execution_count": 7
        }
      ],
      "source": [
        "reviewed_sentence = []\n",
        "correction_word = False\n",
        "for idx, word in enumerate(list_words):\n",
        "    if correction_word:\n",
        "        correction_word=False\n",
        "    elif '-' in word and '+' in list_words[idx+1]:\n",
        "        correction_word=True\n",
        "        reviewed_sentence.append(list_words[idx+1])\n",
        "    else:\n",
        "        reviewed_sentence.append(word)\n",
        "\n",
        "reviewed_sentence"
      ]
    },
    {
      "cell_type": "markdown",
      "id": "1253ca08",
      "metadata": {
        "id": "1253ca08"
      },
      "source": [
        "#### Formatear el resultado"
      ]
    },
    {
      "cell_type": "code",
      "execution_count": null,
      "id": "7e5565aa",
      "metadata": {
        "id": "7e5565aa"
      },
      "outputs": [],
      "source": [
        "def correction_style(word, correction):\n",
        "    html_correction = \"\"\"<abbr style=\"text-decoration: none\"  title=\"{}\">\\\n",
        "<mark style=\"background-color: #afa\">{}</mark></abbr>\"\"\"\n",
        "    return html_correction.format(word.replace('-',''), correction.replace('+',''))"
      ]
    },
    {
      "cell_type": "code",
      "source": [
        "correction_style('hola', 'adios')"
      ],
      "metadata": {
        "colab": {
          "base_uri": "https://localhost:8080/",
          "height": 36
        },
        "id": "f4ZCdgguyH19",
        "outputId": "1f59af6b-2524-4bbc-9dc2-a3e1d24b2a1a"
      },
      "id": "f4ZCdgguyH19",
      "execution_count": null,
      "outputs": [
        {
          "output_type": "execute_result",
          "data": {
            "text/plain": [
              "'<abbr style=\"text-decoration: none\"  title=\"hola\"><mark style=\"background-color: #afa\">adios</mark></abbr>'"
            ],
            "application/vnd.google.colaboratory.intrinsic+json": {
              "type": "string"
            }
          },
          "metadata": {},
          "execution_count": 9
        }
      ]
    },
    {
      "cell_type": "code",
      "execution_count": null,
      "id": "e4e1d7f1",
      "metadata": {
        "id": "e4e1d7f1",
        "colab": {
          "base_uri": "https://localhost:8080/"
        },
        "outputId": "eb7a32b3-836f-4579-e024-905670f9617c"
      },
      "outputs": [
        {
          "output_type": "execute_result",
          "data": {
            "text/plain": [
              "['  ChatGPT',\n",
              " '  is',\n",
              " '  a',\n",
              " '  large',\n",
              " '  language',\n",
              " '  model',\n",
              " '<abbr style=\"text-decoration: none\"  title=\" designe\"><mark style=\"background-color: #afa\"> designed</mark></abbr>',\n",
              " '  to',\n",
              " '  generate',\n",
              " '  human-like',\n",
              " '<abbr style=\"text-decoration: none\"  title=\" responsez.\"><mark style=\"background-color: #afa\"> responses.</mark></abbr>']"
            ]
          },
          "metadata": {},
          "execution_count": 10
        }
      ],
      "source": [
        "reviewed_sentence = []\n",
        "correction_word = False\n",
        "for idx, word in enumerate(list_words):\n",
        "    if correction_word:\n",
        "        correction_word=False\n",
        "    elif '-' in word and '+' in list_words[idx+1]:\n",
        "        correction_word=True\n",
        "        reviewed_sentence.append(correction_style(word, list_words[idx+1]))\n",
        "    else:\n",
        "        reviewed_sentence.append(word)\n",
        "\n",
        "reviewed_sentence"
      ]
    },
    {
      "cell_type": "code",
      "source": [
        "''.join(reviewed_sentence)"
      ],
      "metadata": {
        "colab": {
          "base_uri": "https://localhost:8080/",
          "height": 53
        },
        "id": "xAxx-OAsEntt",
        "outputId": "b84eb5cc-e979-41e3-fe74-c7abc902ad2b"
      },
      "id": "xAxx-OAsEntt",
      "execution_count": null,
      "outputs": [
        {
          "output_type": "execute_result",
          "data": {
            "text/plain": [
              "'  ChatGPT  is  a  large  language  model<abbr style=\"text-decoration: none\"  title=\" designe\"><mark style=\"background-color: #afa\"> designed</mark></abbr>  to  generate  human-like<abbr style=\"text-decoration: none\"  title=\" responsez.\"><mark style=\"background-color: #afa\"> responses.</mark></abbr>'"
            ],
            "application/vnd.google.colaboratory.intrinsic+json": {
              "type": "string"
            }
          },
          "metadata": {},
          "execution_count": 11
        }
      ]
    },
    {
      "cell_type": "markdown",
      "id": "41d139ec",
      "metadata": {
        "id": "41d139ec"
      },
      "source": [
        "https://www.w3schools.com/html/tryit.asp?filename=tryhtml_intro"
      ]
    },
    {
      "cell_type": "markdown",
      "id": "2af48175",
      "metadata": {
        "id": "2af48175"
      },
      "source": [
        "#### Resultado Final"
      ]
    },
    {
      "cell_type": "code",
      "execution_count": null,
      "id": "f3298da0",
      "metadata": {
        "id": "f3298da0"
      },
      "outputs": [],
      "source": [
        "def compare_texts(text_input, text_corrected):\n",
        "\n",
        "    text_corrected = text_corrected.replace('\"', '')\n",
        "    d = difflib.Differ()\n",
        "    diff = d.compare(text_input.split(), text_corrected.split())\n",
        "    list_words = [word for word in diff  if '?' not in word]\n",
        "\n",
        "    reviewed_sentence = []\n",
        "    correction_word = False\n",
        "    for idx, word in enumerate(list_words):\n",
        "        if correction_word:\n",
        "            correction_word=False\n",
        "            pass\n",
        "        elif '-' in word and '+' in list_words[idx+1]:\n",
        "            correction_word=True\n",
        "            reviewed_sentence.append(correction_style(word, list_words[idx+1]))\n",
        "        else:\n",
        "            reviewed_sentence.append(word)\n",
        "\n",
        "    return ''.join(reviewed_sentence)"
      ]
    },
    {
      "cell_type": "code",
      "execution_count": null,
      "id": "675b2e3a",
      "metadata": {
        "id": "675b2e3a"
      },
      "outputs": [],
      "source": [
        "compare_texts(input_text, output_text)"
      ]
    }
  ],
  "metadata": {
    "kernelspec": {
      "display_name": "Python [conda env:code-translator] *",
      "language": "python",
      "name": "conda-env-code-translator-py"
    },
    "language_info": {
      "codemirror_mode": {
        "name": "ipython",
        "version": 3
      },
      "file_extension": ".py",
      "mimetype": "text/x-python",
      "name": "python",
      "nbconvert_exporter": "python",
      "pygments_lexer": "ipython3",
      "version": "3.8.16"
    },
    "colab": {
      "provenance": []
    }
  },
  "nbformat": 4,
  "nbformat_minor": 5
}